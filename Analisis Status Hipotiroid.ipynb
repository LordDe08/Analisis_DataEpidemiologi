{
 "cells": [
  {
   "cell_type": "code",
   "execution_count": 60,
   "id": "0c71814a-d601-439b-815d-901e1030ab7b",
   "metadata": {},
   "outputs": [
    {
     "name": "stdout",
     "output_type": "stream",
     "text": [
      "Requirement already satisfied: pyreadstat in c:\\users\\dean\\anaconda3\\lib\\site-packages (1.2.2)\n",
      "Requirement already satisfied: pandas>=1.2.0 in c:\\users\\dean\\anaconda3\\lib\\site-packages (from pyreadstat) (1.4.2)\n",
      "Requirement already satisfied: pytz>=2020.1 in c:\\users\\dean\\anaconda3\\lib\\site-packages (from pandas>=1.2.0->pyreadstat) (2021.3)\n",
      "Requirement already satisfied: numpy>=1.18.5 in c:\\users\\dean\\anaconda3\\lib\\site-packages (from pandas>=1.2.0->pyreadstat) (1.21.5)\n",
      "Requirement already satisfied: python-dateutil>=2.8.1 in c:\\users\\dean\\anaconda3\\lib\\site-packages (from pandas>=1.2.0->pyreadstat) (2.8.2)\n",
      "Requirement already satisfied: six>=1.5 in c:\\users\\dean\\anaconda3\\lib\\site-packages (from python-dateutil>=2.8.1->pandas>=1.2.0->pyreadstat) (1.16.0)\n"
     ]
    }
   ],
   "source": [
    "!pip install pyreadstat\n",
    "import pandas as pd\n",
    "import pyreadstat"
   ]
  },
  {
   "cell_type": "code",
   "execution_count": 79,
   "id": "dc708a68-403d-4cf4-a34c-6443f7597d80",
   "metadata": {},
   "outputs": [
    {
     "name": "stdout",
     "output_type": "stream",
     "text": [
      "      no                nama  umur_1  sex      TB     BB  Palpasi    Hb  \\\n",
      "45  46.0           Rudiyanto   128.0  1.0  124.75  25.65      0.0  12.9   \n",
      "5    6.0       Ade Mujiyanti    98.0  2.0  119.00  21.75      1.0  13.3   \n",
      "16  17.0  Indah Putri Amalia   112.0  2.0  134.50  29.35      2.0  13.5   \n",
      "\n",
      "     TSHs  Pestisida  \n",
      "45   3.93        2.0  \n",
      "5   16.22        2.0  \n",
      "16   6.01        2.0  \n"
     ]
    }
   ],
   "source": [
    "#membuka file Analisis Epidemiologi \n",
    "nama_file = '2023-Analisis Epidemiologi-Data3.sav'\n",
    "df, meta = pyreadstat.read_sav(nama_file)\n",
    "print(df.sample(3))"
   ]
  },
  {
   "cell_type": "code",
   "execution_count": 80,
   "id": "a42d46db-c9b2-4870-8c4a-6af1f6f16f9b",
   "metadata": {},
   "outputs": [
    {
     "name": "stdout",
     "output_type": "stream",
     "text": [
      "      no           nama  umur_1  sex      TB     BB  Palpasi    Hb  TSHs  \\\n",
      "3    4.0  Mahes Setyo M   127.0  1.0  135.95  44.75      0.0  14.9  3.13   \n",
      "47  48.0     Rizka Dewi   130.0  2.0  134.35  28.85      1.0  13.4  3.02   \n",
      "46  47.0  Rafika Amalia   129.0  2.0  116.80  21.00      2.0  14.1  1.23   \n",
      "\n",
      "    Pestisida Status_Hipotiroid  \n",
      "3         2.0  Tidak Hipotiroid  \n",
      "47        2.0  Tidak Hipotiroid  \n",
      "46        2.0  Tidak Hipotiroid  \n"
     ]
    }
   ],
   "source": [
    "df['Status_Hipotiroid'] = df['TSHs'].apply(lambda x: 'Hipotiroid' if x > 4.5 else 'Tidak Hipotiroid')\n",
    "print(df.sample(3))"
   ]
  },
  {
   "cell_type": "code",
   "execution_count": 81,
   "id": "faa98b3c-c6cc-40ee-833d-22f75cfcb842",
   "metadata": {},
   "outputs": [
    {
     "name": "stdout",
     "output_type": "stream",
     "text": [
      "      no                nama  umur_1  sex     TB     BB  Palpasi    Hb   TSHs  \\\n",
      "14  15.0        Eka Julfania   126.0  2.0  128.1  30.15      2.0  13.7   5.42   \n",
      "28  29.0          Nurul Amin   111.0  1.0  120.4  21.40      0.0  12.7   4.79   \n",
      "16  17.0  Indah Putri Amalia   112.0  2.0  134.5  29.35      2.0  13.5   6.01   \n",
      "13  14.0         Diana Putri   120.0  2.0  123.3  22.90      1.0  14.6  10.79   \n",
      "19  20.0            Laeliyah   120.0  2.0  128.2  28.20      1.0  14.1   2.05   \n",
      "\n",
      "    Pestisida Status_Hipotiroid  Umur(Tahun)  \n",
      "14        1.0        Hipotiroid    10.500000  \n",
      "28        1.0        Hipotiroid     9.250000  \n",
      "16        2.0        Hipotiroid     9.333333  \n",
      "13        1.0        Hipotiroid    10.000000  \n",
      "19        2.0  Tidak Hipotiroid    10.000000  \n"
     ]
    }
   ],
   "source": [
    "df['Umur(Tahun)'] = df['umur_1'] /12\n",
    "print(df.sample(5))"
   ]
  },
  {
   "cell_type": "code",
   "execution_count": 82,
   "id": "d8834731-ff3f-414a-a655-5faa092137a6",
   "metadata": {},
   "outputs": [
    {
     "name": "stdout",
     "output_type": "stream",
     "text": [
      "      no            nama  umur_1  sex      TB     BB  Palpasi    Hb  TSHs  \\\n",
      "22  23.0   Mulia Alim MW   121.0  1.0  120.90  22.55      1.0  13.1  8.87   \n",
      "45  46.0       Rudiyanto   128.0  1.0  124.75  25.65      0.0  12.9  3.93   \n",
      "31  32.0  Nisa Ramadhani   110.0  2.0  118.30  21.00      0.0  13.3  2.97   \n",
      "10  11.0  Dafid Bakhtiar   121.0  1.0  127.20  28.80      2.0  13.3  5.42   \n",
      "37  38.0     Rofi Nurdin   112.0  1.0  124.90  25.05      2.0  12.6  7.70   \n",
      "\n",
      "    Pestisida Status_Hipotiroid  Umur(Tahun) Jenis_Kelamin  \n",
      "22        2.0        Hipotiroid    10.083333     Laki-laki  \n",
      "45        2.0  Tidak Hipotiroid    10.666667     Laki-laki  \n",
      "31        1.0  Tidak Hipotiroid     9.166667     Perempuan  \n",
      "10        1.0        Hipotiroid    10.083333     Laki-laki  \n",
      "37        2.0        Hipotiroid     9.333333     Laki-laki  \n"
     ]
    }
   ],
   "source": [
    "df['Jenis_Kelamin'] = df['sex'].apply(lambda x: 'Laki-laki' if x < 1.5 else 'Perempuan')\n",
    "print(df.sample(5))"
   ]
  },
  {
   "cell_type": "code",
   "execution_count": 83,
   "id": "e36160b3-240d-4d50-9276-0c734b95f90a",
   "metadata": {},
   "outputs": [],
   "source": [
    "from scipy import stats"
   ]
  },
  {
   "cell_type": "code",
   "execution_count": 84,
   "id": "e1ece96d-b720-41bf-9954-5f7419812396",
   "metadata": {},
   "outputs": [],
   "source": [
    "df['Status_Hipotiroid'] = df['Status_Hipotiroid'].map({'Tidak Hipotiroid': 0, 'Hipotiroid': 1})"
   ]
  },
  {
   "cell_type": "code",
   "execution_count": 85,
   "id": "a451392e-86e9-49c4-b165-8f548ea0c508",
   "metadata": {},
   "outputs": [],
   "source": [
    "df['Pestisida'] = df['Pestisida'].astype(int)\n",
    "df['Status_Hipotiroid'] = df['Status_Hipotiroid'].astype(int)"
   ]
  },
  {
   "cell_type": "code",
   "execution_count": 86,
   "id": "b9d331b4-412e-473e-bcd2-328566742c77",
   "metadata": {},
   "outputs": [
    {
     "name": "stdout",
     "output_type": "stream",
     "text": [
      "Optimization terminated successfully.\n",
      "         Current function value: 0.648071\n",
      "         Iterations 5\n",
      "                           Logit Regression Results                           \n",
      "==============================================================================\n",
      "Dep. Variable:      Status_Hipotiroid   No. Observations:                   48\n",
      "Model:                          Logit   Df Residuals:                       46\n",
      "Method:                           MLE   Df Model:                            1\n",
      "Date:                Sun, 18 Jun 2023   Pseudo R-squ.:                 0.06386\n",
      "Time:                        01:20:35   Log-Likelihood:                -31.107\n",
      "converged:                       True   LL-Null:                       -33.229\n",
      "Covariance Type:            nonrobust   LLR p-value:                   0.03939\n",
      "==============================================================================\n",
      "                 coef    std err          z      P>|z|      [0.025      0.975]\n",
      "------------------------------------------------------------------------------\n",
      "const          0.7885      0.539      1.462      0.144      -0.269       1.846\n",
      "2             -1.2993      0.651     -1.995      0.046      -2.576      -0.023\n",
      "==============================================================================\n"
     ]
    }
   ],
   "source": [
    "import statsmodels.api as sm\n",
    "\n",
    "# Menentukan variabel eksposur dan kejadian\n",
    "eksposur = df['Pestisida']  # Variabel eksposur (pajanan pestisida)\n",
    "kejadian = df['Status_Hipotiroid']  # Variabel kejadian (hipotiroid)\n",
    "\n",
    "# Mengkodekan variabel eksposur sebagai variabel dummy\n",
    "eksposur_dummies = pd.get_dummies(eksposur, drop_first=True)\n",
    "\n",
    "# Menambahkan kolom konstanta ke data\n",
    "eksposur_dummies = sm.add_constant(eksposur_dummies)\n",
    "\n",
    "# Melakukan analisis regresi logistik\n",
    "model = sm.Logit(kejadian, eksposur_dummies)\n",
    "result = model.fit()\n",
    "\n",
    "# Menampilkan hasil analisis\n",
    "print(result.summary())\n"
   ]
  },
  {
   "cell_type": "code",
   "execution_count": 87,
   "id": "04caeebf-fa3e-4c00-84e8-0f5ebb2bf62a",
   "metadata": {},
   "outputs": [
    {
     "name": "stdout",
     "output_type": "stream",
     "text": [
      "Optimization terminated successfully.\n",
      "         Current function value: 0.648071\n",
      "         Iterations 5\n",
      "const:\n",
      "Coefficient: 2.088\n",
      "95% CI: (-0.144, 4.320)\n",
      "\n",
      "Pestisida:\n",
      "Coefficient: -1.299\n",
      "95% CI: (-2.576, -0.023)\n",
      "\n"
     ]
    }
   ],
   "source": [
    "import statsmodels.api as sm\n",
    "\n",
    "# Menentukan variabel dependen (kejadian) dan variabel independen (eksposur)\n",
    "endog = df['Status_Hipotiroid']\n",
    "exog = sm.add_constant(df['Pestisida'])\n",
    "\n",
    "# Melakukan analisis regresi logistik\n",
    "model = sm.Logit(endog, exog)\n",
    "result = model.fit()\n",
    "\n",
    "# Mendapatkan hasil parameter\n",
    "params = result.params\n",
    "ci = result.conf_int(alpha=0.05)  # 95% CI\n",
    "\n",
    "# Menampilkan hasil interpretasi\n",
    "for i, param in enumerate(params.index):\n",
    "    coef = params[param]\n",
    "    ci_lower = ci.iloc[i, 0]\n",
    "    ci_upper = ci.iloc[i, 1]\n",
    "    print(f'{param}:')\n",
    "    print(f'Coefficient: {coef:.3f}')\n",
    "    print(f'95% CI: ({ci_lower:.3f}, {ci_upper:.3f})')\n",
    "    print('')\n",
    "\n",
    "# Contoh interpretasi\n",
    "# Jika coef > 0, maka pajanan pestisida meningkatkan risiko hipotiroid.\n",
    "# Jika coef < 0, maka pajanan pestisida menurunkan risiko hipotiroid.\n",
    "# Interval kepercayaan 95% (CI) memberikan kisaran di mana parameter sebagian besar berada.\n",
    "# Jika CI tidak mencakup nilai nol, maka parameter tersebut dianggap signifikan secara statistik."
   ]
  },
  {
   "cell_type": "code",
   "execution_count": 48,
   "id": "37b5b531-0396-46f1-9ba2-00256adc57ca",
   "metadata": {},
   "outputs": [
    {
     "data": {
      "image/png": "[encoded data removed]",
      "text/plain": [
       "<Figure size 432x288 with 1 Axes>"
      ]
     },
     "metadata": {
      "needs_background": "light"
     },
     "output_type": "display_data"
    }
   ],
   "source": [
    "import matplotlib.pyplot as plt\n",
    "# Mengambil variabel tinggi badan dan berat badan\n",
    "tinggi_badan = df['TB']\n",
    "berat_badan = df['BB']\n",
    "\n",
    "# Membuat scatter plot\n",
    "plt.scatter(tinggi_badan, berat_badan)\n",
    "plt.xlabel('TB')\n",
    "plt.ylabel('BB')\n",
    "plt.title('Hubungan antara Tinggi Badan dan Berat Badan')\n",
    "plt.show()"
   ]
  },
  {
   "cell_type": "code",
   "execution_count": 52,
   "id": "ecdec0c1-072b-4183-9e7f-094628a2f397",
   "metadata": {},
   "outputs": [
    {
     "data": {
      "image/png": "[encoded data removed]",
      "text/plain": [
       "<Figure size 432x288 with 1 Axes>"
      ]
     },
     "metadata": {
      "needs_background": "light"
     },
     "output_type": "display_data"
    }
   ],
   "source": [
    "# Mengambil data dari responden pria\n",
    "data_pria = df[df['Jenis_Kelamin'] == 'Laki-laki']\n",
    "\n",
    "# Mengambil variabel tinggi badan dan berat badan pada responden pria\n",
    "tinggi_badan_pria = data_pria['TB']\n",
    "berat_badan_pria = data_pria['BB']\n",
    "\n",
    "# Membuat scatter plot\n",
    "plt.scatter(tinggi_badan_pria, berat_badan_pria)\n",
    "plt.xlabel('TB')\n",
    "plt.ylabel('BB')\n",
    "plt.title('Hubungan antara Tinggi Badan dan Berat Badan pada Responden Laki-laki')\n",
    "plt.show()"
   ]
  },
  {
   "cell_type": "code",
   "execution_count": 55,
   "id": "ec4040c8-0333-40de-89bb-cef433371ac7",
   "metadata": {},
   "outputs": [
    {
     "data": {
      "image/png": "[encoded data removed]",
      "text/plain": [
       "<Figure size 432x288 with 1 Axes>"
      ]
     },
     "metadata": {
      "needs_background": "light"
     },
     "output_type": "display_data"
    }
   ],
   "source": [
    "# Mengambil data dari responden perempuan\n",
    "data_perempuan = df[df['Jenis_Kelamin'] == 'Perempuan']\n",
    "\n",
    "# Mengambil variabel tinggi badan dan berat badan pada responden perempuan\n",
    "tinggi_badan_perempuan = data_perempuan['TB']\n",
    "berat_badan_perempuan = data_perempuan['BB']\n",
    "\n",
    "# Membuat scatter plot\n",
    "plt.scatter(tinggi_badan_perempuan, berat_badan_perempuan)\n",
    "plt.xlabel('TB')\n",
    "plt.ylabel('BB')\n",
    "plt.title('Hubungan antara Tinggi Badan dan Berat Badan pada Responden Perempuan')\n",
    "plt.show()"
   ]
  },
  {
   "cell_type": "markdown",
   "id": "2aea2f4d-d03d-4d82-a2c5-dd6646419810",
   "metadata": {},
   "source": [
    "# Epidemiologi Hipotiroid\n",
    "\n",
    "## Deskripsi\n",
    "\n",
    "Repositori ini berisi data dan analisis terkait dengan epidemiologi hipotiroid. Data yang digunakan berasal dari sumber [sumber data] dan mencakup informasi mengenai faktor risiko, gejala, dan prevalensi hipotiroid dalam populasi tertentu.\n",
    "\n",
    "## Struktur Direktori\n",
    "\n",
    "- `data/`: Folder ini berisi data mentah yang digunakan dalam analisis.\n",
    "- `notebooks/`: Folder ini berisi notebook Jupyter yang berisi analisis dan pemodelan data.\n",
    "- `results/`: Folder ini berisi hasil analisis, seperti visualisasi dan ringkasan data.\n",
    "\n",
    "## Panduan Penggunaan\n",
    "\n",
    "1. Klone repositori ini ke komputer Anda dengan perintah: `git clone <URL_Repositori_GitHub>`.\n",
    "2. Instal semua dependensi yang diperlukan dengan menjalankan: `<perintah_instalasi_dependensi>`.\n",
    "3. Anda dapat menjalankan notebook Jupyter yang ada di folder `notebooks/` untuk melihat dan menjalankan analisis yang telah dilakukan.\n",
    "4. Hasil analisis dan visualisasi dapat ditemukan di folder `results/`.\n",
    "\n",
    "## Kontribusi\n",
    "\n",
    "Kontribusi terhadap repositori ini sangat diterima. Jika Anda ingin melakukan perbaikan atau menambahkan fitur baru, ikuti langkah-langkah berikut:\n",
    "\n",
    "1. Fork repositori ini.\n",
    "2. Buat branch baru dengan perubahan Anda: `git checkout -b nama-branch`.\n",
    "3. Lakukan perubahan yang diperlukan.\n",
    "4. Commit perubahan Anda: `git commit -m \"Deskripsi perubahan\"`.\n",
    "5. Dorong perubahan ke branch yang baru saja dibuat: `git push origin nama-branch`.\n",
    "6. Ajukan pull request melalui Git\n"
   ]
  },
  {
   "cell_type": "code",
   "execution_count": null,
   "id": "13f9e7d2-942a-44fb-a7c8-1118e70c24fe",
   "metadata": {},
   "outputs": [],
   "source": []
  }
 ],
 "metadata": {
  "kernelspec": {
   "display_name": "Python 3 (ipykernel)",
   "language": "python",
   "name": "python3"
  },
  "language_info": {
   "codemirror_mode": {
    "name": "ipython",
    "version": 3
   },
   "file_extension": ".py",
   "mimetype": "text/x-python",
   "name": "python",
   "nbconvert_exporter": "python",
   "pygments_lexer": "ipython3",
   "version": "3.9.12"
  }
 },
 "nbformat": 4,
 "nbformat_minor": 5
}
